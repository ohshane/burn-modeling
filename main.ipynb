{
 "cells": [
  {
   "cell_type": "code",
   "execution_count": 1,
   "metadata": {},
   "outputs": [
    {
     "data": {
      "text/plain": [
       "tensor([[ 20,   8,   1,   0],\n",
       "        [  5, 242,  79,   0],\n",
       "        [  4,  44, 283,   4],\n",
       "        [  1,   1,  11,  17]])"
      ]
     },
     "execution_count": 1,
     "metadata": {},
     "output_type": "execute_result"
    }
   ],
   "source": [
    "import torch\n",
    "\n",
    "cm = torch.tensor([[ 20,   8,   1,   0],\n",
    "                   [  5, 242,  79,   0],\n",
    "                   [  4,  44, 283,   4],\n",
    "                   [  1,   1,  11,  17]])\n",
    "cm"
   ]
  },
  {
   "cell_type": "code",
   "execution_count": 2,
   "metadata": {},
   "outputs": [
    {
     "data": {
      "text/plain": [
       "tensor([[275,  80],\n",
       "        [ 50, 315]])"
      ]
     },
     "execution_count": 2,
     "metadata": {},
     "output_type": "execute_result"
    }
   ],
   "source": [
    "p, n = cm.vsplit(2)\n",
    "TN, FP = p.hsplit(2)\n",
    "FN, TP = n.hsplit(2)\n",
    "# cm2 = torch.tensor([[TN, FP],[FN, TP]])\n",
    "# cm2\n",
    "\n",
    "TN, FP, FN, TP = TN.sum(), FP.sum(), FN.sum(), TP.sum()\n",
    "cm2 = torch.tensor([[TN, FP],[FN, TP]])\n",
    "cm2"
   ]
  },
  {
   "cell_type": "code",
   "execution_count": 3,
   "metadata": {},
   "outputs": [
    {
     "data": {
      "text/plain": [
       "tensor([0.7746, 0.8630])"
      ]
     },
     "execution_count": 3,
     "metadata": {},
     "output_type": "execute_result"
    }
   ],
   "source": [
    "cm2.diag() / cm2.sum(1)"
   ]
  },
  {
   "cell_type": "code",
   "execution_count": null,
   "metadata": {},
   "outputs": [
    {
     "data": {
      "text/plain": [
       "tensor(0.8194)"
      ]
     },
     "execution_count": 4,
     "metadata": {},
     "output_type": "execute_result"
    }
   ],
   "source": [
    "cm2.diag().sum() / cm2.sum()\n"
   ]
  },
  {
   "cell_type": "code",
   "execution_count": 7,
   "metadata": {},
   "outputs": [
    {
     "name": "stdout",
     "output_type": "stream",
     "text": [
      "20 8 1 0 \n",
      "5 242 79 0 \n",
      "4 44 283 4 \n",
      "1 1 11 17 \n"
     ]
    }
   ],
   "source": [
    "for row in cm:\n",
    "    for c in row:\n",
    "        print(c.item(), end=' ')\n",
    "    print()"
   ]
  }
 ],
 "metadata": {
  "kernelspec": {
   "display_name": "base",
   "language": "python",
   "name": "python3"
  },
  "language_info": {
   "codemirror_mode": {
    "name": "ipython",
    "version": 3
   },
   "file_extension": ".py",
   "mimetype": "text/x-python",
   "name": "python",
   "nbconvert_exporter": "python",
   "pygments_lexer": "ipython3",
   "version": "3.11.5"
  }
 },
 "nbformat": 4,
 "nbformat_minor": 2
}
